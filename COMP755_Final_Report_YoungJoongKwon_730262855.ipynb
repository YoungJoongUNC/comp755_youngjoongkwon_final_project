{
 "cells": [
  {
   "cell_type": "markdown",
   "metadata": {},
   "source": [
    "$$\n",
    "\\renewcommand{\\vvec}[2]{\\left[ \\begin{array}{c} \\mathbf{#1}\\\\ \\mathbf{#2} \\end{array}\\right]}\n",
    "\\renewcommand{\\mmat}[4]{\\left[ \\begin{array}{cc} \\mathbf{#1}&\\mathbf{#2}\\\\ \\mathbf{#3}&\\mathbf{#4} \\end{array}\\right]}\n",
    "\\renewcommand{\\aaa}{\\mathbf{a}}\n",
    "\\renewcommand{\\AAA}{\\mathbf{A}}\n",
    "\\renewcommand{\\xyvec}{\\left[ \\begin{array}{c} \\xx\\\\\\yy \\end{array} \\right]}\n",
    "\\renewcommand{\\xyvecc}{\\left[ \\begin{array}{c} x^1\\\\y^1 \\end{array} \\right]}\n",
    "\\renewcommand{\\mm}{\\mathbf{m}}\n",
    "\\renewcommand{\\xx}{\\mathbf{x}}\n",
    "\\renewcommand{\\yy}{\\mathbf{y}}\n",
    "\\renewcommand{\\zz}{\\mathbf{z}}\n",
    "\\renewcommand{\\vv}{\\mathbf{v}}\n",
    "\\renewcommand{\\ee}{\\mathbf{e}}\n",
    "\\renewcommand{\\ww}{\\mathbf{w}}\n",
    "\\renewcommand{\\XX}{\\mathbf{X}}\n",
    "\\renewcommand{\\YY}{\\mathbf{Y}}\n",
    "\\renewcommand{\\WW}{\\mathbf{W}}\n",
    "\\renewcommand{\\VV}{\\mathbf{V}}\n",
    "\\renewcommand{\\DD}{\\mathbf{D}}\n",
    "\\renewcommand{\\dd}{\\mathbf{d}}\n",
    "\\renewcommand{\\ZZ}{\\mathbf{Z}}\n",
    "\\renewcommand{\\CC}{\\mathbf{C}}\n",
    "\\renewcommand{\\bbeta}{\\boldsymbol{\\mathbf{\\beta}}}\n",
    "\\renewcommand{\\ddelta}{\\boldsymbol{\\mathbf{\\delta}}}\n",
    "\\renewcommand{\\mmu}{\\boldsymbol{\\mathbf{\\mu}}}\n",
    "\\renewcommand{\\ssigma}{\\boldsymbol{\\mathbf{\\sigma}}}\n",
    "\\renewcommand{\\reals}{\\mathbb{R}}\n",
    "\\renewcommand{\\loglik}{\\mathcal{LL}}\n",
    "\\renewcommand{\\penloglik}{\\mathcal{PLL}}\n",
    "\\renewcommand{\\likelihood}{\\mathcal{L}}\n",
    "\\renewcommand{\\Data}{\\textrm{Data}}\n",
    "\\renewcommand{\\given}{ \\big| }\n",
    "\\renewcommand{\\MLE}{\\textrm{MLE}}\n",
    "\\renewcommand{\\EE}{\\mathbb{E}}\n",
    "\\renewcommand{\\EEE}{\\mathbf{E}}\n",
    "\\renewcommand{\\KL}{\\textrm{KL}}\n",
    "\\renewcommand{\\Bound}{\\mathcal{B}}\n",
    "\\renewcommand{\\tth}{\\textrm{th}}\n",
    "\\renewcommand{\\Gaussian}[2]{\\mathcal{N}\\left(#1,#2\\right)}\n",
    "\\renewcommand{\\norm}[1]{\\left\\lVert#1\\right\\rVert}\n",
    "\\renewcommand{\\ones}{\\mathbf{1}}\n",
    "\\renewcommand{\\corr}[2]{\\textrm{corr}(#1,#2)}\n",
    "\\renewcommand{\\diag}[1]{\\textrm{diag}\\left( #1 \\right)}\n",
    "\\renewcommand{\\sigmoid}[1]{\\sigma\\left(#1\\right)}\n",
    "\\renewcommand{\\myexp}[1]{\\exp\\left\\{#1\\right\\}}\n",
    "\\renewcommand{\\mylog}[1]{\\log\\left\\{#1\\right\\}}\n",
    "\\renewcommand{\\argmax}{\\mathop{\\textrm{argmax}}}\n",
    "\\renewcommand{\\new}{\\textrm{new}}\n",
    "\\renewcommand{\\old}{\\textrm{old}}\n",
    "\\renewcommand{\\bb}{\\mathbf{b}}\n",
    "\\renewcommand{\\ba}{\\mathbf{a}}\n",
    "\\renewcommand{\\bg}{\\mathbf{g}}\n",
    "\\renewcommand{\\BB}{\\mathbf{B}}\n",
    "\\renewcommand{\\BA}{\\mathbf{A}}\n",
    "\\renewcommand{\\BC}{\\mathbf{C}}\n",
    "\\renewcommand{\\UU}{\\mathbf{U}}\n",
    "\\renewcommand{\\uu}{\\mathbf{u}}\n",
    "\\renewcommand{\\hh}{\\mathbf{h}}\n",
    "\\renewcommand{\\SSS}{\\mathbf{S}}\n",
    "\\renewcommand{\\sss}{\\mathbf{s}}\n",
    "\\renewcommand{\\rr}{\\mathbf{r}}\n",
    "\\renewcommand{\\tr}[1]{\\textrm{tr}\\left\\{#1\\right\\}}\n",
    "\\renewcommand{\\argmin}{\\mathop{\\textrm{argmin}}}\n",
    "\\renewcommand{\\abs}[1]{\\left\\lvert#1\\right\\rvert}\n",
    "\\renewcommand{\\sign}[1]{\\textrm{sign}\\left(#1\\right)}\n",
    "\\renewcommand{\\minimize}{\\mathop{\\textrm{minimize}}}\n",
    "\\renewcommand{\\subjectto}{\\mathop{\\textrm{subject to}}}\n",
    "\\renewcommand{\\relu}{\\textrm{ReLU}}\n",
    "$$"
   ]
  },
  {
   "cell_type": "markdown",
   "metadata": {},
   "source": [
    "\n",
    "First Name: YoungJoong\n",
    "    \n",
    "Last Name: Kwon\n",
    "    \n",
    "PID: 730262855\n",
    "\n",
    "Colaborated with: None\n",
    "\n",
    "\n"
   ]
  },
  {
   "cell_type": "markdown",
   "metadata": {},
   "source": [
    "# Introduction\n",
    " Understanding image and video leads to better reconstruction of the physical world.\n",
    "Previous methods focus largely on geometry and visual appearance of the reconstructed scene.\n",
    "In this work, we present a method to recover the material properties of cloth from a video. \n",
    "Previous cloth material recovery methods often require markers or complex experimental set-up to acquire physical properties, or are limited to certain types of images or videos.\n",
    "Our approach takes advantages of the appearance changes of the moving cloth to infer its physical properties. \n",
    "To extract information about the cloth, our method characterizes both the motion and the visual appearance of the cloth geometry. \n",
    "We apply the Residual Network (ResNet) and the Long Short Term Memory (LSTM) neural network to material recovery of cloth from videos. "
   ]
  },
  {
   "cell_type": "markdown",
   "metadata": {},
   "source": [
    "# Overview of Our Method\n",
    "Our cloth material recovery method learns an appearance-to-material mapping model from a set of training samples. With the learned mapping model, we perform material-type prediction given a recorded video of cloth motion.\n",
    "\n",
    "![Overview](overview.png)"
   ]
  },
  {
   "cell_type": "markdown",
   "metadata": {},
   "source": [
    "# Learning Method\n",
    " In this section, we explain how to establish the mapping between the visual appearance of a moving cloth and its material label using deep neural network.\n",
    "\n",
    "## Deep Neural Network Structure \n",
    "### Design Rationale\n",
    " We propose to combine ResNet with LSTM for our appearance-to-material learning. CNN is used to extract both low- and high-level visual features. LSTM part of the network focuses on temporal motion pattern learning. In the following section, we will briefly introduce our network structure.\n",
    "### Residual Network for Hierarchical Visual Feature Learning: \n",
    "The basis of the convolutional operation serves as a filtering operation on an image. Layers of convolutional neural network (CNN) with convolutional kernels of different dimensions extract features at various levels of details. \n",
    "\n",
    "We applied a ResNet for its ability in hierarchical visual feature selection. However, We removed the fully connected layer of the last stage and directly feed the output of the average pooling layer into each LSTM cell.\n",
    "### Recurrent Neural Network for Sequential Pattern Learning:\n",
    "A single image contains a limited amount of information concerning the physics properties of a piece of cloth. But a video can be more powerful to demonstrate how the physics properties, such as the material peoperties of a piece of cloth, can affect its motions. To approximate this mapping between the material properties of the cloth and its sequential movement, we apply the recurrent neural network. Unlike the feed-forward neural network, the recurrent neural network has a feedback loop. The loop connects the output of the current cell to the input of the cell at the next step. The feedback loop act as the \"memory\" of the recurrent neural network. With the \"memory\", the recurrent neural network has the ability to gradually extract the pattern of the input sequence. \n",
    "\n",
    "Following the intuition behind the recurrent neural network, we choose the LSTM instead of the traditional recurrent neural network architecture for its ability to deal with vanishing/exploding gradient and fast convergence to learn the pattern in temporal sequence of data."
   ]
  },
  {
   "cell_type": "markdown",
   "metadata": {},
   "source": [
    "# Dataset\n",
    "We processed MIT Real Fabric Dataset (http://people.csail.mit.edu/klbouman/pw/projects/materialproperties/dataset.html) to make our own dataset. \n",
    "MIT Real Fabric Dataset consists of 2-3 minuates 90 videos of the 30 different fabrics moving in response to each of the 3 different strengths of wind force. \n",
    "We subsampled 15 frames from each video and made total 26,136 (about 800 - 900 videos for each material class) small videos. \n",
    "\n",
    "![dataset example](dataset_example.jpg)\n",
    "\n",
    "We used a training, validation, and testing split of 70% / 5% / 25% , respectively. "
   ]
  },
  {
   "cell_type": "markdown",
   "metadata": {},
   "source": [
    "# Experiments\n",
    " We implemented our method using the Pytorch deep neural network framework. We trained our network with NVDIA-Titanx$^{TM}$ GPU.\n",
    "For every epoch, we trained the model and validated the model on validation dataset (1292 videos).\n",
    "As shown in the graph below, model trained at epoch 3 (model3) performed best on validation set with 99% accuracy. Therefore, we chose model3 to use in the testing. \n"
   ]
  },
  {
   "cell_type": "code",
   "execution_count": 9,
   "metadata": {},
   "outputs": [
    {
     "data": {
      "image/png": "[encoded data removed]",
      "text/plain": [
       "<Figure size 432x288 with 1 Axes>"
      ]
     },
     "metadata": {
      "needs_background": "light"
     },
     "output_type": "display_data"
    }
   ],
   "source": [
    "import numpy as np\n",
    "import matplotlib.pyplot as plt\n",
    "\n",
    "lst_iter = [1,2,3,4]\n",
    "lst_loss=[0.8935, 0.3302, 0.0212, 0.0645]\n",
    "lst_acc =[0.58, 0.88, 0.99, 0.98]\n",
    "\n",
    "title = \"Validation Loss and Accuracy\"\n",
    "plt.plot(lst_iter, lst_loss, '-b', label='loss')\n",
    "plt.plot(lst_iter, lst_acc, '-r', label='accuracy')\n",
    "\n",
    "plt.xticks([1,2,3,4])\n",
    "plt.xlabel(\"n epoch\")\n",
    "plt.legend(loc='upper left')\n",
    "plt.title(title)\n",
    "\n",
    "# save image\n",
    "plt.savefig(title+\".png\")  # should before show method\n",
    "\n",
    "# show\n",
    "plt.show()"
   ]
  },
  {
   "cell_type": "markdown",
   "metadata": {},
   "source": [
    "# Project Description\n",
    "data_processing.ipynb is the code that was used to process dataset. We used main.py to training and validating the model. test.py is the code that can be used to test the model3.\n",
    "## guide to test model3\n",
    "If you want to test model3 :\n",
    "\n",
    "1)download the whole project into the root folder that you want. Open the test.py and change the \"ROOTPATH\" variable of the line 25 to your own absolute path to root folder.\n",
    "\n2)download \"MIT Fabric Dataset Index\", \"MIT Fabric Dataset Processed\", \"MIT Fabric Models\" folders into your root folder.\n",
    "\n3)run test.py "
   ]
  }
 ],
 "metadata": {
  "anaconda-cloud": {},
  "kernelspec": {
   "display_name": "Python 3",
   "language": "python",
   "name": "python3"
  },
  "language_info": {
   "codemirror_mode": {
    "name": "ipython",
    "version": 3
   },
   "file_extension": ".py",
   "mimetype": "text/x-python",
   "name": "python",
   "nbconvert_exporter": "python",
   "pygments_lexer": "ipython3",
   "version": "3.6.7"
  }
 },
 "nbformat": 4,
 "nbformat_minor": 1
}
